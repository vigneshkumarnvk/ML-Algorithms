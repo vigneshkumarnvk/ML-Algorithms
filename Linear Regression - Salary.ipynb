{
 "cells": [
  {
   "cell_type": "code",
   "execution_count": 72,
   "metadata": {},
   "outputs": [
    {
     "name": "stdout",
     "output_type": "stream",
     "text": [
      "   YearsExperience  Salary\n",
      "0              1.1   39343\n",
      "1              1.3   46205\n",
      "2              1.5   37731\n",
      "3              2.0   43525\n",
      "4              2.2   39891\n"
     ]
    }
   ],
   "source": [
    "#importing necessary packages\n",
    "import numpy as np\n",
    "import pandas as pd\n",
    "import matplotlib.pyplot as plt\n",
    "\n",
    "#Reading csv file using pandas\n",
    "data = pd.read_csv(\"F:\\Data Science\\salary.csv\")\n",
    "\n",
    "#first five rows of dataset\n",
    "print(data.head())"
   ]
  },
  {
   "cell_type": "code",
   "execution_count": 73,
   "metadata": {},
   "outputs": [
    {
     "name": "stdout",
     "output_type": "stream",
     "text": [
      "YearsExperience    0\n",
      "Salary             0\n",
      "dtype: int64\n",
      "shape :  (35, 2)\n",
      "size :  70\n"
     ]
    }
   ],
   "source": [
    "#checking for null values\n",
    "print(data.isnull().sum())\n",
    "\n",
    "#shape and size of data\n",
    "print(\"shape : \",data.shape)\n",
    "print(\"size : \",data.size)\n"
   ]
  },
  {
   "cell_type": "code",
   "execution_count": 74,
   "metadata": {},
   "outputs": [
    {
     "name": "stdout",
     "output_type": "stream",
     "text": [
      "       YearsExperience         Salary\n",
      "count        35.000000      35.000000\n",
      "mean          6.308571   83945.600000\n",
      "std           3.618610   32162.673003\n",
      "min           1.100000   37731.000000\n",
      "25%           3.450000   57019.000000\n",
      "50%           5.300000   81363.000000\n",
      "75%           9.250000  113223.500000\n",
      "max          13.500000  139465.000000\n"
     ]
    }
   ],
   "source": [
    "print(data.describe())"
   ]
  },
  {
   "cell_type": "code",
   "execution_count": 75,
   "metadata": {},
   "outputs": [
    {
     "name": "stdout",
     "output_type": "stream",
     "text": [
      "[[1.1]\n",
      " [1.3]\n",
      " [1.5]\n",
      " [2. ]\n",
      " [2.2]\n",
      " [2.9]\n",
      " [3. ]\n",
      " [3.2]\n",
      " [3.2]\n",
      " [3.7]]\n",
      "[[39343]\n",
      " [46205]\n",
      " [37731]\n",
      " [43525]\n",
      " [39891]\n",
      " [56642]\n",
      " [60150]\n",
      " [54445]\n",
      " [64445]\n",
      " [57189]]\n"
     ]
    }
   ],
   "source": [
    "#Assigning YearsofExperience to X(Independent) variable\n",
    "#Assigning salary to y(Dependent) variable\n",
    "X = data.iloc[:,[0]].values\n",
    "y = data.iloc[:,[-1]].values\n",
    "\n",
    "#printing first 10 values of variable x any y\n",
    "print(X[0:10])\n",
    "print(y[0:10])"
   ]
  },
  {
   "cell_type": "code",
   "execution_count": 76,
   "metadata": {},
   "outputs": [
    {
     "data": {
      "image/png": "[encoded data removed]",
      "text/plain": [
       "<Figure size 432x288 with 1 Axes>"
      ]
     },
     "metadata": {
      "needs_background": "light"
     },
     "output_type": "display_data"
    }
   ],
   "source": [
    "plt.scatter(X,y,c=\"green\",label=\"Actual\")\n",
    "plt.title(\"YearsofExperience Vs Salary\")\n",
    "plt.xlabel(\"YearsofExperience\")\n",
    "plt.ylabel(\"Salary\")\n",
    "plt.legend()\n",
    "plt.show()"
   ]
  },
  {
   "cell_type": "code",
   "execution_count": 77,
   "metadata": {},
   "outputs": [],
   "source": [
    "#imporing sklearn modules\n",
    "from sklearn.linear_model import LinearRegression\n",
    "from sklearn.model_selection import train_test_split\n",
    "from sklearn import metrics\n",
    "\n",
    "#spliting dataset ino train and train values\n",
    "x_train,x_test,y_train,y_test = train_test_split(X,y,train_size=0.8,random_state=0)"
   ]
  },
  {
   "cell_type": "code",
   "execution_count": 78,
   "metadata": {},
   "outputs": [
    {
     "data": {
      "text/plain": [
       "LinearRegression()"
      ]
     },
     "execution_count": 78,
     "metadata": {},
     "output_type": "execute_result"
    }
   ],
   "source": [
    "#fit trainig valuesreg = LinearRegression()\n",
    "reg.fit(x_train,y_train)"
   ]
  },
  {
   "cell_type": "code",
   "execution_count": 79,
   "metadata": {},
   "outputs": [
    {
     "name": "stdout",
     "output_type": "stream",
     "text": [
      "Slope(m) :  [29445.05652018]\n",
      "Coefficient(c) :  [[8629.79240044]]\n"
     ]
    }
   ],
   "source": [
    "#slope and coefficient\n",
    "print(\"Slope(m) : \",reg.intercept_)\n",
    "print(\"Coefficient(c) : \",reg.coef_)"
   ]
  },
  {
   "cell_type": "code",
   "execution_count": 80,
   "metadata": {},
   "outputs": [
    {
     "name": "stdout",
     "output_type": "stream",
     "text": [
      "    Actul      predicted\n",
      "0  121872  120057.876725\n",
      "1   91738   88127.644843\n",
      "2   66029   73456.997762\n",
      "3  122391  118331.918245\n",
      "4  101302   97620.416484\n",
      "5   67938   71731.039282\n",
      "6   63218   63101.246882\n"
     ]
    }
   ],
   "source": [
    "#predicting values\n",
    "y_predict = reg.predict(x_test)\n",
    "\n",
    "diff = pd.DataFrame({\"Actul\":y_test.flatten(),\"predicted\":y_predict.flatten()})\n",
    "print(diff)"
   ]
  },
  {
   "cell_type": "code",
   "execution_count": 81,
   "metadata": {},
   "outputs": [
    {
     "data": {
      "image/png": "[encoded data removed]",
      "text/plain": [
       "<Figure size 432x288 with 1 Axes>"
      ]
     },
     "metadata": {
      "needs_background": "light"
     },
     "output_type": "display_data"
    }
   ],
   "source": [
    "plt.scatter(X,y,c=\"green\",label=\"Actual\")\n",
    "plt.plot(X,reg.predict(X),c=\"red\",label=\"Predict\")\n",
    "plt.title(\"YearsofExperience Vs Salary\")\n",
    "plt.xlabel(\"YearsofExperience\")\n",
    "plt.ylabel(\"Salary\")\n",
    "plt.legend()\n",
    "plt.show()"
   ]
  },
  {
   "cell_type": "code",
   "execution_count": 82,
   "metadata": {},
   "outputs": [
    {
     "name": "stdout",
     "output_type": "stream",
     "text": [
      "Mean Absolute Error: 4993.651795113288\n",
      "Mean Squared Error: 35142962.3450799\n",
      "Root Mean Squared Error: 5928.14999347013\n"
     ]
    }
   ],
   "source": [
    "print('Mean Absolute Error:', metrics.mean_absolute_error(y, reg.predict(X))) \n",
    "print('Mean Squared Error:', metrics.mean_squared_error(y, reg.predict(X)))  \n",
    "print('Root Mean Squared Error:', np.sqrt(metrics.mean_squared_error(y, reg.predict(X))))"
   ]
  },
  {
   "cell_type": "code",
   "execution_count": 83,
   "metadata": {},
   "outputs": [
    {
     "name": "stdout",
     "output_type": "stream",
     "text": [
      "0.9650277782171588\n"
     ]
    }
   ],
   "source": [
    "from sklearn.metrics import r2_score\n",
    "print(r2_score(y, reg.predict(X)))"
   ]
  },
  {
   "cell_type": "code",
   "execution_count": 84,
   "metadata": {},
   "outputs": [
    {
     "data": {
      "text/plain": [
       "array([[46704.64132106]])"
      ]
     },
     "execution_count": 84,
     "metadata": {},
     "output_type": "execute_result"
    }
   ],
   "source": [
    "reg.predict([[2]])"
   ]
  }
 ],
 "metadata": {
  "kernelspec": {
   "display_name": "Python 3",
   "language": "python",
   "name": "python3"
  },
  "language_info": {
   "codemirror_mode": {
    "name": "ipython",
    "version": 3
   },
   "file_extension": ".py",
   "mimetype": "text/x-python",
   "name": "python",
   "nbconvert_exporter": "python",
   "pygments_lexer": "ipython3",
   "version": "3.8.5"
  }
 },
 "nbformat": 4,
 "nbformat_minor": 4
}
